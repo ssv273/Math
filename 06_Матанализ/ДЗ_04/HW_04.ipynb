{
 "cells": [
  {
   "cell_type": "markdown",
   "metadata": {},
   "source": [
    "Найти производную функции"
   ]
  },
  {
   "cell_type": "markdown",
   "metadata": {},
   "source": [
    "## 1.  $y=\\frac{1}{x}+\\frac{2}{x^{2}}-\\frac{5}{x^{3}}+\\sqrt{x}-\\sqrt[3]{x}+\\frac{3}{\\sqrt{x}}$"
   ]
  },
  {
   "cell_type": "markdown",
   "metadata": {},
   "source": [
    "$y=x^{-1}+2 \\cdot x^{-2}-5 \\cdot x^{-3}+x^{1/2}-x^{1/3}+3 \\cdot x^{-1/2}$"
   ]
  },
  {
   "cell_type": "markdown",
   "metadata": {},
   "source": [
    "$\\begin{aligned} y^{\\prime}=&(-1) \\cdot x^{-2}+2 \\cdot(-2) \\cdot x^{-3}-5 \\cdot(-3) \\cdot x^{-4}+\\frac{1}{2} x^{-\\frac{1}{2}}-\\frac{1}{3} \\cdot x^{-\\frac{2}{3}}+3 \\cdot\\left(-\\frac{1}{2}\\right) \\cdot x^{-1\\frac{1}{2}}=\\end{aligned}$"
   ]
  },
  {
   "cell_type": "markdown",
   "metadata": {},
   "source": [
    "$=-\\frac{1}{x^{2}}-\\frac{4}{x^{3}}+\\frac{5}{x^{4}}+\\frac{1}{2 \\sqrt{x}}-\\frac{1}{3 \\cdot \\sqrt[3]{x^{2}}}-\\frac{3}{2 \\cdot \\sqrt{x^{5}}}$"
   ]
  },
  {
   "cell_type": "markdown",
   "metadata": {},
   "source": [
    "## 2.    $y=x \\cdot \\sqrt{1+x^{2}}$"
   ]
  },
  {
   "cell_type": "markdown",
   "metadata": {},
   "source": [
    "$y^{\\prime}=x^{\\prime} \\cdot \\sqrt{1+x^{2}}+x \\cdot \\sqrt{1+x^{2}}^{\\prime}$"
   ]
  },
  {
   "cell_type": "markdown",
   "metadata": {},
   "source": [
    "$y^{\\prime}=1 \\cdot \\sqrt{1+x^{2}}+x \\cdot\\left(\\left(1+x^{2}\\right)^{\\frac{1}{2}}\\right)^{\\prime}= \\sqrt{1+x^{2}}+x \\cdot \\frac{1}{2 \\sqrt{1+x^{2}}}$"
   ]
  },
  {
   "cell_type": "markdown",
   "metadata": {},
   "source": [
    "## 3.    $y=\\sqrt{x+\\sqrt{x}}$\n",
    "$y=\\sqrt{x+\\sqrt{x}}=\\left(\\left(x+x^{\\frac{1}{2}}\\right)^{\\frac{1}{2}}\\right)^{\\prime}$"
   ]
  },
  {
   "cell_type": "markdown",
   "metadata": {},
   "source": [
    "$y^{\\prime}=\\frac{1}{2} \\cdot\\left(x+x^{\\frac{1}{2}}\\right)^{-\\frac{1}{2}}=\\frac{1}{2 \\cdot(x+\\sqrt{x})}$"
   ]
  },
  {
   "cell_type": "markdown",
   "metadata": {},
   "source": [
    "## 4.    $y=\\sqrt{x+\\sqrt{x+\\sqrt{x}}}$"
   ]
  },
  {
   "cell_type": "markdown",
   "metadata": {},
   "source": [
    "$y=\\left(x+\\left(x+x^{\\frac{1}{2}}\\right)^{\\frac{1}{2}}\\right)^{\\frac{1}{2}}$"
   ]
  },
  {
   "cell_type": "markdown",
   "metadata": {},
   "source": [
    "$y^{\\prime}=\\frac{1}{2} \\cdot\\left(x+\\left(x+x^{\\frac{1}{2}}\\right)^{2}\\right)^{-\\frac{1}{2}} \\cdot \\frac{1}{2}\\left(x+x^{\\frac{1}{2}}\\right)^{-\\frac{1}{2}}=\\frac{1}{2 \\sqrt{x+\\sqrt{x+\\sqrt{x}}}} \\cdot \\frac{1}{2 \\cdot \\sqrt{x+\\sqrt{x}}}$"
   ]
  },
  {
   "cell_type": "markdown",
   "metadata": {},
   "source": [
    "## 5. $y=\\left(x^{2}+2\\right)^{5} \\cdot\\left(3 x-x^{3}\\right)^{3}$"
   ]
  },
  {
   "cell_type": "markdown",
   "metadata": {},
   "source": [
    "$y^{\\prime}=\\left(\\left(x^{2}+2\\right)^{5}\\right)^{\\prime} \\cdot\\left(3 x-x^{3}\\right)^{3}+\\left(x^{2}+2\\right)^{5} \\cdot\\left(\\left(3 x-x^{3}\\right)^{3}\\right)^{\\prime}=$"
   ]
  },
  {
   "cell_type": "markdown",
   "metadata": {},
   "source": [
    "$=5\\left(x^{2}+2\\right)^{4} \\cdot\\left(3 x-x^{3}\\right)^{3}+\\left(x^{2}+2\\right)^{5} \\cdot 3\\left(3 x-x^{3}\\right)^{2}=$"
   ]
  },
  {
   "cell_type": "markdown",
   "metadata": {},
   "source": [
    "$=\\left(x^{2}+2\\right)^{4}\\left(5 \\cdot\\left(3 x-x^{3}\\right)^{3}+\\left(x^{2}+2\\right) \\cdot 3 \\cdot\\left(3 x-x^{3}\\right)^{2}\\right)=$"
   ]
  },
  {
   "cell_type": "markdown",
   "metadata": {},
   "source": [
    "$=\\left(x^{2}+2\\right)^{4} \\cdot\\left(3 x-x^{3}\\right)^{2}\\left(5 \\cdot\\left(3 x-x^{3}\\right)+3\\left(x^{2}+2\\right)\\right)$"
   ]
  },
  {
   "cell_type": "markdown",
   "metadata": {},
   "source": [
    "## 6 $y=(1+x) \\cdot(2-x)^{2} \\cdot\\left(x^{2}-3 x\\right)^{3} \\cdot \\sin x$"
   ]
  },
  {
   "cell_type": "markdown",
   "metadata": {},
   "source": [
    "$y^{\\prime}=(1+x)^{\\prime} \\cdot(2-x)^{2} \\cdot\\left(x^{2}-3 x\\right)^{3} \\cdot \\sin x+(1+x) \\cdot\\left((2-x)^{2}\\right)^{\\prime}\\cdot\\left(x^{2}-3 x\\right)^{3} \\cdot \\sin x+(1+x) \\cdot(2-x)^{2} \\cdot\\left(\\left(x^{2}-3 x\\right)^{3}\\right)^{\\prime} \\cdot \\sin x+(1+x) \\cdot(2-x)^{2} \\cdot\\left(x^{2}-3 x\\right)^{3} \\cdot(\\sin x)^{\\prime}=$"
   ]
  },
  {
   "cell_type": "markdown",
   "metadata": {},
   "source": [
    "$ = 1 \\cdot(2-x)^{2} \\cdot\\left(x^{2}-3 x\\right)^{3} \\cdot \\sin x+(1+x)\\cdot 2 \\cdot(2-x) \\cdot\\left(x^{2}-3 x\\right)-\\sin x+(1+x) \\cdot\\left(2-x^{2}\\right) \\cdot 3 \\cdot\\left(x^{2}-3 x\\right)^{2} \\cdot \\sin x+(1+x) \\cdot\\left(2-x^{2}\\right) \\cdot\\left(x^{2}-3 x\\right)^{3} \\cdot \\cos x$"
   ]
  },
  {
   "cell_type": "markdown",
   "metadata": {},
   "source": [
    "## 7 $y=\\sqrt[x]{x}$"
   ]
  },
  {
   "cell_type": "markdown",
   "metadata": {},
   "source": [
    " воспользуемся $\\left(u^{v}\\right)^{\\prime}= u^{v} \\cdot(v \\cdot \\ln (u))^{\\prime}$"
   ]
  },
  {
   "cell_type": "markdown",
   "metadata": {},
   "source": [
    "$y=\\sqrt[x]{x}=x^{\\frac{1}{x}} = x^{x^{-1}}$"
   ]
  },
  {
   "cell_type": "markdown",
   "metadata": {},
   "source": [
    "$y^{\\prime}=x^{x^{-1}} \\cdot\\left(x^{-1} \\cdot \\ln x\\right)^{\\prime} = x^{x^{-1}} \\cdot\\left(\\left(x^{-1}\\right)^{\\prime} \\cdot \\ln x\\right.+ x^{-1} \\cdot(\\ln x)^{\\prime} )=$"
   ]
  },
  {
   "cell_type": "markdown",
   "metadata": {},
   "source": [
    "$=x^{x^{-1}} \\cdot\\left((-1) \\cdot x^{-2} \\cdot \\ln x+x^{-1}\\cdot \\frac{1}{x}\\right) = x^{x^{-1}} \\cdot\\left(\\frac{1}{x^{2}}-\\frac{\\ln x}{x^{2}}\\right)=$"
   ]
  },
  {
   "cell_type": "markdown",
   "metadata": {},
   "source": [
    "$=x^{x^{-1}} \\cdot \\frac{1}{x^{2}} \\cdot(1-\\ln x)$"
   ]
  },
  {
   "cell_type": "markdown",
   "metadata": {},
   "source": [
    "## 8 $y=\\frac{2 x}{1-x^{2}}$"
   ]
  },
  {
   "cell_type": "markdown",
   "metadata": {},
   "source": [
    "$\\left(\\frac{U}{V}\\right)^{\\prime}=\\frac{U^{\\prime} \\cdot V-U \\cdot V^{\\prime}}{V^{2}}$"
   ]
  },
  {
   "cell_type": "markdown",
   "metadata": {},
   "source": [
    "$y^{\\prime}=\\frac{(2 x)^{\\prime}\\left(1-x^{2}\\right)-2 x \\cdot\\left(1-x^{2}\\right)^{\\prime}}{\\left(1-x^{2}\\right)^{2}}=$\n",
    "$\\frac{2 \\cdot\\left(1-x^{2}\\right)-2 x \\cdot(-2 x)}{\\left(1-x^{2}\\right)^{2}}=$\n",
    "$2-\\frac{2 x^{2}+4 x^{2}}{\\left(1-x^{2}\\right)^{2}}=\\frac{2+2 x^{2}}{\\left(1-x^{2}\\right)^{2}}=$\n",
    "$\\frac{2 \\cdot\\left(1+x^{2}\\right)}{\\left(1-x^{2}\\right)^{2}}$"
   ]
  },
  {
   "cell_type": "markdown",
   "metadata": {},
   "source": [
    "## 9 $y=\\frac{x}{(x+1) \\cdot(2-3 x)}$"
   ]
  },
  {
   "cell_type": "markdown",
   "metadata": {},
   "source": [
    "$y^{\\prime}=\\frac{x^{\\prime} \\cdot(x+1) \\cdot(2-3 x)-x \\cdot((x+1) \\cdot(2-3 x))^{\\prime}}{\\left((x+1) \\cdot(2-3 x))^{2}\\right.}$"
   ]
  },
  {
   "cell_type": "markdown",
   "metadata": {},
   "source": [
    "$((x+1) \\cdot(2-3 x))^{\\prime}=(x+1)^{\\prime} \\cdot(2-3 x)+(x+1) \\cdot(2-3 x)^{\\prime}=1 \\cdot(2-3 x)+(x+1)\\cdot(-3)=2-3 x-3 x-3=-1-6 x$"
   ]
  },
  {
   "cell_type": "markdown",
   "metadata": {},
   "source": [
    "$y^{\\prime}=\\frac{1 \\cdot(x+1) \\cdot(2-3 x)-x \\cdot(-1-6 x)}{((x+1)(2-3 x))^{2}}$\n",
    "$=\\frac{(x+1) \\cdot(2-3 x)+x+6 x^{2}}{((x+1) \\cdot(2-3 x) )^{2}}$"
   ]
  },
  {
   "cell_type": "markdown",
   "metadata": {},
   "source": [
    "## 10 $y=\\frac{\\left(2-x^{2}\\right)^{3} \\cdot(x-1)^{2}}{\\left(2 x^{3}-3 x\\right) \\cdot e^{x}}$"
   ]
  },
  {
   "cell_type": "markdown",
   "metadata": {},
   "source": [
    "$y^{\\prime}=\\frac{\\left(2-x^{2}\\right)^{3} \\cdot(x-1)^{2}}{\\left(2 x^{3}-3 x\\right) \\cdot e^{x}}\\cdot$\n",
    "$\\left(-6 \\frac{x}{2-x^{2}}+\\frac{2}{x-1}-\\frac{1}{2 x^{3}-3 x}-1\\right)$"
   ]
  },
  {
   "cell_type": "markdown",
   "metadata": {},
   "source": [
    "т.к. $\\left(\\ln \\left(2-x^{2}\\right)^{3}\\right)^{\\prime}=3 \\cdot\\left(\\ln \\left(2-x^{2}\\right)\\right)^{\\prime}=$\n",
    "3$\\cdot\\left(-2 \\frac{x}{2-x^{2}}\\right)$"
   ]
  },
  {
   "cell_type": "markdown",
   "metadata": {},
   "source": [
    "Найти предел функции.\n",
    "\n",
    "Т.к. производная есть предел приращения изменения функции к приращению аргумента, то для нахождения предела в любой точке надо найти производную функции(вроде...)"
   ]
  },
  {
   "cell_type": "markdown",
   "metadata": {},
   "source": [
    "## 11 $y=\\ln \\left(x+\\sqrt{x^{2}+1}\\right)$"
   ]
  },
  {
   "cell_type": "markdown",
   "metadata": {},
   "source": [
    "$y^{\\prime}=\\left(\\left(\\ln \\left(x+\\sqrt{x^{2}+1}\\right)\\right)^{\\prime} \\cdot\\left(x+\\sqrt{x^{2}+1}\\right)^{\\prime}\\right.$"
   ]
  },
  {
   "cell_type": "markdown",
   "metadata": {},
   "source": [
    "$\\ln \\left(x+\\sqrt{x^{2}+1}\\right)^{\\prime}=\\frac{1}{x+\\sqrt{x^{2}+1}}$"
   ]
  },
  {
   "cell_type": "markdown",
   "metadata": {},
   "source": [
    "$\\left(x+\\sqrt{x^{2}+1}\\right)^{\\prime}=$\n",
    "$1+\\left(\\left(x^{2}+1\\right)^{\\frac{1}{2}}\\right)^{\\prime}=$\n",
    "$1+\\frac{x}{\\left(x^{2}+1\\right)^{\\frac{1}{2}}}$"
   ]
  },
  {
   "cell_type": "markdown",
   "metadata": {},
   "source": [
    "$y^{\\prime}=\\frac{1}{x+\\sqrt{x^{2}+1}} \\cdot\\left(1+\\frac{x}{\\sqrt{x^{2}+1}}\\right)$"
   ]
  },
  {
   "cell_type": "markdown",
   "metadata": {},
   "source": [
    "## 12 $y=x \\cdot \\ln \\left(x+\\sqrt{x^{2}+1}\\right)-\\sqrt{x^{2}+1}$"
   ]
  },
  {
   "cell_type": "markdown",
   "metadata": {},
   "source": [
    "$y^{\\prime}=x^{\\prime} \\cdot \\ln \\left(x+\\sqrt{x^{2}+1}\\right)+$\n",
    "$x \\cdot\\left(\\ln \\left(x+\\sqrt{x^{2}+1}\\right)^{\\prime}-\\left(\\sqrt{x^{2}+1}\\right)^{\\prime}\\right.$"
   ]
  },
  {
   "cell_type": "markdown",
   "metadata": {},
   "source": [
    "$y^{\\prime}=1 \\cdot \\ln \\left(x+\\sqrt{x^{2}+1}\\right) x +$\n",
    "$x \\cdot\\frac{1}{x+\\sqrt{x^{2}+1}} \\cdot\\left(1+\\frac{x}{\\sqrt{x^{2}+1}}\\right)-\\frac{x}{\\sqrt{x^{2}-1}}$"
   ]
  },
  {
   "cell_type": "markdown",
   "metadata": {},
   "source": [
    "## 13 $y=\\arcsin (\\sin x)$"
   ]
  },
  {
   "cell_type": "markdown",
   "metadata": {},
   "source": [
    "т.к. $\\arcsin (x)^{\\prime}=\\frac{1}{\\sqrt{1- (x)^{2}}}$"
   ]
  },
  {
   "cell_type": "markdown",
   "metadata": {},
   "source": [
    "$y^{\\prime}=(\\arcsin (\\sin x))^{\\prime} \\cdot(\\sin x)^{\\prime}=$\n",
    "$\\frac{1}{\\sqrt{1-\\sin ^{2} x}} \\cdot \\cos x$"
   ]
  },
  {
   "cell_type": "markdown",
   "metadata": {},
   "source": [
    "## 14 Найти длину 𝑥 и ширину 𝑦 прямоугольника при заданном периметре 𝑃 = 144см, при которых данный прямоугольник имеет наибольшую площадь 𝑆"
   ]
  },
  {
   "cell_type": "markdown",
   "metadata": {},
   "source": [
    "$P=2 x+2 y \\Rightarrow y=\\frac{p-2 x}{2}=\\frac{144-2 x}{2}=72-x$"
   ]
  },
  {
   "cell_type": "markdown",
   "metadata": {},
   "source": [
    "$S=x \\cdot y \\quad \\Rightarrow \\quad S=x \\cdot(72-x)=72 x-x^{2}$"
   ]
  },
  {
   "cell_type": "markdown",
   "metadata": {},
   "source": [
    "$S^{\\prime}=\\left(72 x-x^{2}\\right)^{\\prime}=72-2 x$"
   ]
  },
  {
   "cell_type": "markdown",
   "metadata": {},
   "source": [
    "$72-2 x=0$"
   ]
  },
  {
   "cell_type": "markdown",
   "metadata": {},
   "source": [
    "$2 x=72$"
   ]
  },
  {
   "cell_type": "markdown",
   "metadata": {},
   "source": [
    "$x=36 \\Rightarrow y=36$\n",
    "$\\Rightarrow S \\max =1296$"
   ]
  },
  {
   "cell_type": "code",
   "execution_count": null,
   "metadata": {},
   "outputs": [],
   "source": []
  },
  {
   "cell_type": "code",
   "execution_count": null,
   "metadata": {},
   "outputs": [],
   "source": []
  }
 ],
 "metadata": {
  "kernelspec": {
   "display_name": "Python 3",
   "language": "python",
   "name": "python3"
  },
  "language_info": {
   "codemirror_mode": {
    "name": "ipython",
    "version": 3
   },
   "file_extension": ".py",
   "mimetype": "text/x-python",
   "name": "python",
   "nbconvert_exporter": "python",
   "pygments_lexer": "ipython3",
   "version": "3.7.2"
  },
  "toc": {
   "base_numbering": 1,
   "nav_menu": {},
   "number_sections": true,
   "sideBar": true,
   "skip_h1_title": false,
   "title_cell": "Table of Contents",
   "title_sidebar": "Contents",
   "toc_cell": false,
   "toc_position": {},
   "toc_section_display": true,
   "toc_window_display": false
  }
 },
 "nbformat": 4,
 "nbformat_minor": 2
}
