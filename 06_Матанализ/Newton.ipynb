{
 "cells": [
  {
   "cell_type": "code",
   "execution_count": 1,
   "metadata": {},
   "outputs": [],
   "source": [
    "import numpy as np"
   ]
  },
  {
   "cell_type": "code",
   "execution_count": 2,
   "metadata": {},
   "outputs": [],
   "source": [
    "def newton(f, f_prime, x0, eps: float = 1e-7, kmax: int = 1e3):\n",
    "    x = x0\n",
    "    err = x0 +2*eps\n",
    "    i = 0\n",
    "\n",
    "    while (np.sqrt(err[0]**2+err[1]**2) >= eps) & (i < kmax):\n",
    "        delta_x = np.linalg.solve(f_prime(x), -f(x))\n",
    "        err = x-delta_x\n",
    "        x = x + delta_x\n",
    "        i+=1\n",
    "        if i == kmax:\n",
    "            print('Maximum iterations')\n",
    "                \n",
    "    return x"
   ]
  },
  {
   "cell_type": "code",
   "execution_count": 3,
   "metadata": {},
   "outputs": [],
   "source": [
    "def f(num):\n",
    "    x = num[0]\n",
    "    y = num[1]\n",
    "    F = np.zeros((2, 1))\n",
    "    F[0] = x**2 - y**2 + 3*x*y**3-2*x**2*y**2+2*x-3*y-5\n",
    "    F[1] = 3*y**3-2*x**2+2*x**3*y-5*x**2*y**2+5\n",
    "    return F"
   ]
  },
  {
   "cell_type": "code",
   "execution_count": 4,
   "metadata": {},
   "outputs": [],
   "source": [
    "def f_prime(num):\n",
    "    x = num[0]\n",
    "    y = num[1]\n",
    "    jacob = np.zeros((2, 2))\n",
    "    jacob[0][0] = 2*x+3*y**3-4*x*y**2+2\n",
    "    jacob[0][1] = -2*y+9*x*y**2-4*x**2*y-3\n",
    "    jacob[1][0] = -4*x+6*x**2*y-10*x*y**2\n",
    "    jacob[1][1] = 9*y**2+2*x**3-10*x**2*y\n",
    "    return jacob"
   ]
  },
  {
   "cell_type": "code",
   "execution_count": null,
   "metadata": {},
   "outputs": [],
   "source": []
  },
  {
   "cell_type": "code",
   "execution_count": 5,
   "metadata": {},
   "outputs": [],
   "source": [
    "x0 = np.array([2, 8]).reshape(2, 1)"
   ]
  },
  {
   "cell_type": "code",
   "execution_count": 6,
   "metadata": {},
   "outputs": [
    {
     "name": "stdout",
     "output_type": "stream",
     "text": [
      "Maximum iterations\n",
      "[[1.27330206]\n",
      " [1.66203912]]\n"
     ]
    }
   ],
   "source": [
    "print(newton(f, f_prime, x0))"
   ]
  }
 ],
 "metadata": {
  "kernelspec": {
   "display_name": "Python 3",
   "language": "python",
   "name": "python3"
  },
  "language_info": {
   "codemirror_mode": {
    "name": "ipython",
    "version": 3
   },
   "file_extension": ".py",
   "mimetype": "text/x-python",
   "name": "python",
   "nbconvert_exporter": "python",
   "pygments_lexer": "ipython3",
   "version": "3.7.3"
  },
  "toc": {
   "base_numbering": 1,
   "nav_menu": {},
   "number_sections": true,
   "sideBar": true,
   "skip_h1_title": false,
   "title_cell": "Table of Contents",
   "title_sidebar": "Contents",
   "toc_cell": false,
   "toc_position": {},
   "toc_section_display": true,
   "toc_window_display": false
  }
 },
 "nbformat": 4,
 "nbformat_minor": 2
}
