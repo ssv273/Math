{
 "cells": [
  {
   "cell_type": "markdown",
   "metadata": {},
   "source": [
    "### Найти частные производные первого и второго порядка.\n",
    "Убедиться в равенстве смешанных производных."
   ]
  },
  {
   "cell_type": "markdown",
   "metadata": {},
   "source": [
    "### $1 . U=x^{3}+3 x y^{2}+z^{2}-39 x-36 y+2 z+26$"
   ]
  },
  {
   "cell_type": "markdown",
   "metadata": {},
   "source": [
    "$U_{x}^{\\prime}=3 x^{2}+3 y^{2}-39$"
   ]
  },
  {
   "cell_type": "markdown",
   "metadata": {},
   "source": [
    "$U_{y}^{\\prime}=6 x y-36$"
   ]
  },
  {
   "cell_type": "markdown",
   "metadata": {},
   "source": [
    "$U_{z}^{\\prime}=2 z+2$"
   ]
  },
  {
   "cell_type": "markdown",
   "metadata": {},
   "source": [
    "###### $U_{x x}^{\\prime \\prime}=6 x \\quad U_{y y}^{\\prime \\prime}=6 x \\quad U^{\\prime \\prime} z z=2$\n",
    "###### $U_{x y}^{\\prime \\prime}=6 y \\quad U^{\\prime \\prime} y x=6 y \\quad U^{\\prime \\prime} z x=0$\n",
    "###### $U_{x y}{\\prime \\prime} =0 \\quad U^{\\prime \\prime} y z=0 \\quad U^{\\prime \\prime} z y=0$"
   ]
  },
  {
   "cell_type": "markdown",
   "metadata": {},
   "source": [
    "### $2 . U=\\frac{256}{x}+\\frac{x^{2}}{y}+\\frac{y^{2}}{z}+z^{2}$"
   ]
  },
  {
   "cell_type": "markdown",
   "metadata": {},
   "source": [
    "$U=256 \\cdot x^{-1}+x^{2} y^{-1}+y^{2} z^{-1}+z^{2}$"
   ]
  },
  {
   "cell_type": "markdown",
   "metadata": {},
   "source": [
    "$U_{x}^{\\prime}=-1 \\cdot 256 \\cdot x^{-2}+y^{-1} \\cdot 2 x=2 x y^{-1}-256 x^{-2}$"
   ]
  },
  {
   "cell_type": "markdown",
   "metadata": {},
   "source": [
    "$U_{y}^{\\prime}=-x^{2}+2 y z^{-1}$"
   ]
  },
  {
   "cell_type": "markdown",
   "metadata": {},
   "source": [
    "$U_{z}^{\\prime}=-y^{2} z^{-2}+2 z$"
   ]
  },
  {
   "cell_type": "markdown",
   "metadata": {},
   "source": [
    "##### $U_{x x}^{\\prime \\prime}=2 y^{-1}+512 x \\quad U^{\\prime} y y=2 z^{-1} \\quad U_{z z}^{\\prime \\prime}=2 y^{2} z^{-3} z$\n",
    "##### $U_{x y}^{\\prime \\prime} =-2 x \\quad \\quad \\quad \\quad U_{y x}^{\\prime \\prime} =-2 x \\quad\\quad U_{z x}^{\\prime \\prime} =0$\n",
    "##### $U_{x z}^{\\prime \\prime}=0 \\quad \\quad \\quad \\quad \\quad  U^{\\prime \\prime} y z=-2 y z^{-2}U_{z y}^{\\prime \\prime}=-2 y z^{-2}$"
   ]
  },
  {
   "cell_type": "markdown",
   "metadata": {},
   "source": [
    "### 3.Найти производную функции 𝑈=𝑥2+𝑦2+𝑧2 по направлению вектора $\\vec{c}(-9,8,-12)$ в точку 𝑀(8;−12;9)."
   ]
  },
  {
   "cell_type": "markdown",
   "metadata": {},
   "source": [
    "$U_{\\vec{c}}^{\\prime}=\\left(\\vec{c}_{0} \\cdot \\operatorname{grad} U\\right)$"
   ]
  },
  {
   "cell_type": "markdown",
   "metadata": {},
   "source": [
    "$| \\vec{C}|=\\sqrt{(-9)^{2}+8^{2}+(-12)^{2}}=\\sqrt{81+64+144}=\\sqrt{289}=17$"
   ]
  },
  {
   "cell_type": "markdown",
   "metadata": {},
   "source": [
    "$\\overrightarrow{C_{0}}=\\frac{\\vec{c}}{|\\vec{c}|}=\\left(\\frac{-9}{17}, \\frac{8}{17}, \\frac{-12}{17}\\right)$"
   ]
  },
  {
   "cell_type": "markdown",
   "metadata": {},
   "source": [
    "$U_{x}^{\\prime}=2 x \\quad$\n",
    "$U_{y}^{\\prime}=2 y \\quad$\n",
    "$U_{z}^{\\prime}=2 z$"
   ]
  },
  {
   "cell_type": "markdown",
   "metadata": {},
   "source": [
    "$\\operatorname{grad} U=(2 x, 2 y, 2 z)$"
   ]
  },
  {
   "cell_type": "markdown",
   "metadata": {},
   "source": [
    "$U_{\\vec{c}}^{\\prime}=\\left.\\right|_{(8,-12,9)} = 8 \\cdot 2 x+12 \\cdot 2 y+9 \\cdot 2 z=16 x-24 y+18 z$"
   ]
  },
  {
   "cell_type": "markdown",
   "metadata": {},
   "source": [
    "### 4 Найти производную функции $U=e^{x^{2}+y^{2}+z^{2}}$ по направлению вектора $\\vec{d}=(4,-13,-16)$ в точку $L(-16 ; 4 ;-13)$."
   ]
  },
  {
   "cell_type": "markdown",
   "metadata": {},
   "source": [
    "$|\\vec{d}|=\\sqrt{4^{2}+(-13)^{2}+(-16)^{2}}=\\sqrt{441}=21$"
   ]
  },
  {
   "cell_type": "markdown",
   "metadata": {},
   "source": [
    "$\\overrightarrow{d_{0}}=\\frac{\\vec{d}}{|\\vec{d}|}=\\left(\\frac{4}{21} ;-\\frac{13}{21} ;-\\frac{16}{21}\\right)$"
   ]
  },
  {
   "cell_type": "markdown",
   "metadata": {},
   "source": [
    "$U_{x}^{\\prime}=\\left(e^{x^{2}}\\right)^{\\prime} \\cdot\\left(x^{2}\\right)^{\\prime}=e^{x^{2}} \\cdot 2 x$"
   ]
  },
  {
   "cell_type": "markdown",
   "metadata": {},
   "source": [
    "$U_{y}^{\\prime}=e^{y^{2}} \\cdot 2 y$"
   ]
  },
  {
   "cell_type": "markdown",
   "metadata": {},
   "source": [
    "$u_{z}^{\\prime}=e^{z^{2}} \\cdot 2 z$"
   ]
  },
  {
   "cell_type": "markdown",
   "metadata": {},
   "source": [
    "$\\operatorname{grad} U=\\left(2 x e^{x^{2}}, 2 y e^{y^{2}}, 2 z e^{z^{2}}\\right)$"
   ]
  },
  {
   "cell_type": "markdown",
   "metadata": {},
   "source": [
    "$U_{\\vec{c}}^{\\prime}\\left.\\right|_{(-16,4,-13)}=2 \\cdot(-16) \\cdot e^{16}+2 \\cdot 4 \\cdot e^{4^{2}}+2 \\cdot(-13) \\cdot e^{(-13)^{2}}=-32 \\cdot e^{256}+8 \\cdot e^{16}-26 \\cdot e^{169}$"
   ]
  },
  {
   "cell_type": "markdown",
   "metadata": {},
   "source": [
    "### 5*.Найти производную функции $U=\\log _{21}\\left(x^{2}+y^{2}+z^{2}\\right)$ в точку $F(-19 ; 8 ;-4)$  по самому быстрому направлению."
   ]
  },
  {
   "cell_type": "markdown",
   "metadata": {},
   "source": [
    "$U_{x}^{\\prime}=\\left(\\log _{21}\\left(x^{\\prime}\\right)\\right)^{\\prime} \\cdot\\left(x^{2}\\right)^{\\prime}=2 x \\cdot \\frac{1}{x^{2} \\cdot \\ln 21}=\\frac{2}{x \\cdot \\ln 21}$"
   ]
  },
  {
   "cell_type": "markdown",
   "metadata": {},
   "source": [
    "$U_{y}^{\\prime}=\\frac{2}{y \\cdot \\ln 21}$"
   ]
  },
  {
   "cell_type": "markdown",
   "metadata": {},
   "source": [
    "$U_{z}^{\\prime}=\\frac{2}{z \\cdot \\ln 21}$"
   ]
  },
  {
   "cell_type": "markdown",
   "metadata": {},
   "source": [
    "$\\operatorname{grad}U\\left.\\right|_{(-19,8,-4)} = \\left(\\frac{2}{(-19 ) \\cdot \\ln 21} ; \\frac{2}{8 \\cdot \\ln 21} ; \\frac{2}{(-4) \\cdot\\left(ln 21\\right)}\\right)$"
   ]
  },
  {
   "cell_type": "markdown",
   "metadata": {},
   "source": [
    "$\\operatorname{grad}U\\left.\\right|_{(-19,8,-4)} =\\sqrt{\\left(\\frac{2}{(-19) \\cdot \\ln 21}\\right)^{2}+\\left(\\frac{2}{8 \\cdot \\ln 21}\\right)^{2}+\\left(\\frac{2}{(-4) \\cdot \\ln 21}\\right)^{2}} = \\sqrt{\\frac{4}{361 \\cdot(\\ln 21)^{2}}+\\frac{4}{64 \\cdot(\\ln 21)^{2}}+\\frac{4}{16 \\cdot(\\ln 21)^{2}}}=\\sqrt{\\frac{4}{(\\ln 21)^{2}}\\left(\\frac{1}{361}+\\frac{1}{64}+\\frac{1}{16}\\right)}=$"
   ]
  },
  {
   "cell_type": "markdown",
   "metadata": {},
   "source": [
    "$=\\frac{2}{\\ln 21} \\cdot \\sqrt{\\frac{193}{2888}}$"
   ]
  },
  {
   "cell_type": "markdown",
   "metadata": {},
   "source": [
    "$\\operatorname{grad}U\\left.\\right|_{(-19,8,-4)} =\\left(\\frac{\\frac{2}{(-19) \\cdot \\ln 21}}{\\frac{2}{\\ln 21} \\cdot \\sqrt{\\frac{193}{2888}}}; \\frac{\\frac{2}{8 \\cdot \\ln 21}}{\\frac{2}{\\ln 21} \\cdot \\sqrt{\\frac{193}{2888}}}; \\frac{\\frac{2}{(-4) \\cdot \\ln 21}}{\\frac{2}{\\ln 21} \\cdot \\sqrt{\\frac{193}{2888}}}\\right) = -\\frac{1}{19 \\sqrt{\\frac{193}{2888}}}; \\frac{1}{8 \\sqrt{\\frac{193}{2888}}} ;-\\frac{1}{4 \\cdot \\sqrt{\\frac{193}{2888}}}$"
   ]
  },
  {
   "cell_type": "markdown",
   "metadata": {},
   "source": [
    "### Исследовать на экстремум следующие функции:"
   ]
  },
  {
   "cell_type": "markdown",
   "metadata": {},
   "source": [
    "### 6. $U=x^{2} y+\\frac{1}{3} y^{3}+2 x^{2}+3 y^{2}-1$"
   ]
  },
  {
   "cell_type": "markdown",
   "metadata": {},
   "source": [
    "$\\left\\{\\begin{array}{l}{U x^{\\prime}=2 x y+4 x=0} \\\\ {U_{y}^{\\prime}=x^{2}+y^{2}+6 y=0}\\end{array}\\right.$"
   ]
  },
  {
   "cell_type": "markdown",
   "metadata": {},
   "source": [
    "$x=(0,0,-2 \\sqrt{2}, 2 \\sqrt{2})$\n",
    "$y=(-6,0,-2,-2)$"
   ]
  },
  {
   "cell_type": "markdown",
   "metadata": {},
   "source": [
    "$\\begin{array}{ll}{ U_{x x}^{\\prime\\prime}=2 y+4} & {U_{x y}^{\\prime \\prime}=2 x} \\\\ {U_{yx}^{\\prime \\prime} =2 x} & {U_{y y}^{\\prime \\prime}=2 y+6}\\end{array}$"
   ]
  },
  {
   "cell_type": "markdown",
   "metadata": {},
   "source": [
    "$\\left(\\begin{array}{cc}{2 y+4} & {2 x} \\\\ {2 x} & {2 y+6}\\end{array}\\right)$"
   ]
  },
  {
   "cell_type": "markdown",
   "metadata": {},
   "source": [
    "$\\Delta_{1}=2 y+4$"
   ]
  },
  {
   "cell_type": "markdown",
   "metadata": {},
   "source": [
    "$\\Delta_{2}=(2 y+4) \\cdot(2 y+6)-(2 x)^{2}$"
   ]
  },
  {
   "cell_type": "markdown",
   "metadata": {},
   "source": [
    "###### 1 1. $x_{1}=0 \\quad y_{1}=-6$"
   ]
  },
  {
   "cell_type": "markdown",
   "metadata": {},
   "source": [
    "$\\Delta_{1}=(-6) \\cdot 2+4=-8<0$"
   ]
  },
  {
   "cell_type": "markdown",
   "metadata": {},
   "source": [
    "$\\Delta_{2}=(2 \\cdot(-6)+4) \\cdot(2 \\cdot(-6)+6)-4 \\cdot 0^{2}=48>0$"
   ]
  },
  {
   "cell_type": "markdown",
   "metadata": {},
   "source": [
    "Следовательно это максимум"
   ]
  },
  {
   "cell_type": "markdown",
   "metadata": {},
   "source": [
    "###### $x_{2}=0 \\quad y_{2}=0$"
   ]
  },
  {
   "cell_type": "markdown",
   "metadata": {},
   "source": [
    "$\\Delta_{1}=0\\cdot2+4=4>0$"
   ]
  },
  {
   "cell_type": "markdown",
   "metadata": {},
   "source": [
    "$\\Delta_{2}=(0+4)(0+6)-4 \\cdot 0^{2}=24>0$"
   ]
  },
  {
   "cell_type": "markdown",
   "metadata": {},
   "source": [
    "Следовательно это минимум"
   ]
  },
  {
   "cell_type": "markdown",
   "metadata": {},
   "source": [
    "###### 3 $x_{3}=-2 \\sqrt{2} \\quad y_{3}=-2$"
   ]
  },
  {
   "cell_type": "markdown",
   "metadata": {},
   "source": [
    "$\\Delta_{1}=2 \\cdot(-2)+4=0$"
   ]
  },
  {
   "cell_type": "markdown",
   "metadata": {},
   "source": [
    "Матрица Гессе в этом случае не работает"
   ]
  },
  {
   "cell_type": "markdown",
   "metadata": {},
   "source": [
    "###### 4 $x_{4}=2 \\sqrt{2} \\quad y_{4}=-2$"
   ]
  },
  {
   "cell_type": "markdown",
   "metadata": {},
   "source": [
    "$\\Delta_{1}=2 \\cdot(-2)+4=0$"
   ]
  },
  {
   "cell_type": "markdown",
   "metadata": {},
   "source": [
    "Тут походу тоже."
   ]
  },
  {
   "cell_type": "markdown",
   "metadata": {},
   "source": [
    "### $7^{*} . U=e^{\\frac{-x}{2}}\\left(x^{2}+y^{2}\\right)$"
   ]
  },
  {
   "cell_type": "markdown",
   "metadata": {},
   "source": [
    "$U_{x}^{\\prime}=\\left(e^{-\\frac{x}{2}}\\right)^{\\prime} \\cdot\\left(x^{2}+y^{2}\\right)+e^{-\\frac{x}{2}} \\cdot\\left(x^{2}+y^{2}\\right)^{\\prime}=\\frac{1}{2} e^{-\\frac{x}{2}} \\cdot\\left(x^{2}+y^{2}\\right)+e^{-\\frac{x}{2}} \\cdot 2 x=e^{-\\frac{x}{2}}\\left(\\frac{x^{2}+y^{2}}{2}+2 x\\right)=0$"
   ]
  },
  {
   "cell_type": "markdown",
   "metadata": {},
   "source": [
    "$U_{y}^{\\prime}=e^{-\\frac{x}{2}} \\cdot 2 y = 0$"
   ]
  },
  {
   "cell_type": "markdown",
   "metadata": {},
   "source": [
    "$U_{x x}^{\\prime \\prime}=\\left(e^{-\\frac{x}{2}}\\right)^{\\prime} \\cdot\\left(\\frac{x^{2}+y^{2}}{2}+2 x\\right)+e^{-\\frac{x}{2}} \\cdot\\left((x^{2}+y^{2}\\right)\\left(\\frac{1}{2}\\right)+2 x )^{\\prime}=-\\frac{1}{2} e^{-\\frac{x}{2}} \\cdot\\left(\\frac{x^{2}+y^{2}}{2}+2 x\\right)+e^{-\\frac{x}{2}} \\cdot(x+2)=e^{-\\frac{x}{2}}\\left(x+2-\\frac{1}{2} \\cdot\\left(\\frac{x^{2}+y^{2}}{2}+2 x\\right)=\\right.$"
   ]
  },
  {
   "cell_type": "markdown",
   "metadata": {},
   "source": [
    "$=e^{-\\frac{x}{2}}\\left(x+2-\\frac{x^{2}+y^{2}}{4}-x\\right)=e^{-\\frac{x}{2}}\\left(2-\\frac{x^{2}+y^{2}}{4}\\right)$"
   ]
  },
  {
   "cell_type": "markdown",
   "metadata": {},
   "source": [
    "$U_{x y}^{\\prime \\prime}=e^{-\\frac{x}{2}} \\cdot y$"
   ]
  },
  {
   "cell_type": "markdown",
   "metadata": {},
   "source": [
    "$U_{y y}^{\\prime\\prime}=2 \\cdot e^{-\\frac{x}{2}}$"
   ]
  },
  {
   "cell_type": "markdown",
   "metadata": {},
   "source": [
    "$U^{\\prime \\prime} y_{x}=-\\frac{1}{2} \\cdot e^{-\\frac{x}{2}} \\cdot 2 \\cdot y=e^{-\\frac{x}{2}} \\cdot y$"
   ]
  },
  {
   "cell_type": "markdown",
   "metadata": {},
   "source": [
    "$\\left\\{\\begin{array}{ll}{e^{-\\frac{x}{2}} \\cdot\\left(2-\\frac{x^{2}+y^{2}}{4}\\right)} & {e^{-\\frac{x}{2}} \\cdot y} \\\\ {e^{-\\frac{x}{2}} \\cdot y} & {2 e^{-\\frac{x}{2}}}\\end{array}\\right\\}$"
   ]
  },
  {
   "cell_type": "markdown",
   "metadata": {},
   "source": [
    "###### $x_{1}=-4 \\quad y_{1}=0$"
   ]
  },
  {
   "cell_type": "markdown",
   "metadata": {},
   "source": [
    "$\\Delta_{1}=e^{+\\frac{4}{2}} \\cdot\\left(2-\\frac{\\left(2-(-4)^{2}+0^{2}\\right)}{4}\\right)=e^{2} \\cdot(2-4)=-e^{2} \\cdot 2<0$"
   ]
  },
  {
   "cell_type": "markdown",
   "metadata": {},
   "source": [
    "$\\Delta_{2}=e^{+\\frac{4}{2}}\\left(2-\\frac{(-4)^{2}+0^{2}}{4}\\right)\\cdot2 \\cdot e^{+\\frac{4}{2}}-\\left(e^{+\\frac{4}{2}}\\right)^{2} \\cdot 0^{2}=2\\left(e^{2}\\right)^{2} \\cdot(2-4)=-2 \\cdot 2 \\cdot\\left(e^{2}\\right)^{2}<0$"
   ]
  },
  {
   "cell_type": "markdown",
   "metadata": {},
   "source": [
    "\"Седловая точка\""
   ]
  },
  {
   "cell_type": "markdown",
   "metadata": {},
   "source": [
    "###### $x_{2}=0 \\quad y_{2}=0$"
   ]
  },
  {
   "cell_type": "markdown",
   "metadata": {},
   "source": [
    "$\\Delta_{1}=e^{0} \\cdot\\left(2-\\frac{0^{2}+0^{2}}{4}\\right)=2>0$"
   ]
  },
  {
   "cell_type": "markdown",
   "metadata": {},
   "source": [
    "$\\Delta_{2}=e^{0} \\cdot\\left(2-\\frac{0}{4}\\right) \\cdot\\left(2 \\cdot e^{0}\\right)-e^{0} \\cdot 0=4>0$"
   ]
  },
  {
   "cell_type": "markdown",
   "metadata": {},
   "source": [
    "Минимум"
   ]
  }
 ],
 "metadata": {
  "kernelspec": {
   "display_name": "Python 3",
   "language": "python",
   "name": "python3"
  },
  "language_info": {
   "codemirror_mode": {
    "name": "ipython",
    "version": 3
   },
   "file_extension": ".py",
   "mimetype": "text/x-python",
   "name": "python",
   "nbconvert_exporter": "python",
   "pygments_lexer": "ipython3",
   "version": "3.7.2"
  },
  "toc": {
   "base_numbering": 1,
   "nav_menu": {},
   "number_sections": true,
   "sideBar": true,
   "skip_h1_title": false,
   "title_cell": "Table of Contents",
   "title_sidebar": "Contents",
   "toc_cell": false,
   "toc_position": {},
   "toc_section_display": true,
   "toc_window_display": false
  }
 },
 "nbformat": 4,
 "nbformat_minor": 2
}
