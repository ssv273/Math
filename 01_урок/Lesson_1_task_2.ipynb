{
 "cells": [
  {
   "cell_type": "code",
   "execution_count": null,
   "metadata": {},
   "outputs": [],
   "source": [
    "input('Запустить?')"
   ]
  },
  {
   "cell_type": "markdown",
   "metadata": {},
   "source": [
    "1. Задание\n",
    "Даны два вектора в трехмерном пространстве: (20,20,20) и (0,0,-20)\n",
    "Найдите их сумму. (на листочке)\n",
    "Напишите код на Python, реализующий расчет длины вектора, заданного его координатами. (в программе)\n"
   ]
  },
  {
   "cell_type": "code",
   "execution_count": null,
   "metadata": {},
   "outputs": [],
   "source": [
    "import numpy as np\n",
    "import plotly.plotly as py\n",
    "import plotly.graph_objs as go\n",
    "import matplotlib.pyplot as plt\n",
    "from plotly.offline import download_plotlyjs, init_notebook_mode, plot, iplot\n",
    "init_notebook_mode(connected=True)"
   ]
  },
  {
   "cell_type": "markdown",
   "metadata": {},
   "source": [
    "Для начала напишем сумматор"
   ]
  },
  {
   "cell_type": "code",
   "execution_count": null,
   "metadata": {},
   "outputs": [],
   "source": [
    "a = np.array(input('Введите координаты вектора А через запятую  ').split(','))"
   ]
  },
  {
   "cell_type": "code",
   "execution_count": null,
   "metadata": {
    "scrolled": true
   },
   "outputs": [],
   "source": [
    "b = np.array(input('Введите координаты вектора B через запятую  ').split(','))"
   ]
  },
  {
   "cell_type": "code",
   "execution_count": null,
   "metadata": {},
   "outputs": [],
   "source": [
    "c = np.zeros(a.shape[0])"
   ]
  },
  {
   "cell_type": "code",
   "execution_count": null,
   "metadata": {},
   "outputs": [],
   "source": [
    "if a.shape == b.shape:\n",
    "    for i in range(a.shape[0]):\n",
    "        c[i] = float(a[i])+float(b[i])\n",
    "else:\n",
    "    print('Количество координат не совпадает')\n",
    "\n",
    "c"
   ]
  },
  {
   "cell_type": "markdown",
   "metadata": {},
   "source": [
    "Теперь расчет длины вектора"
   ]
  },
  {
   "cell_type": "markdown",
   "metadata": {},
   "source": [
    "Если некоторый вектор A задан своими координатами, то его длина равна корню квадратному из суммы квадратов координат этого вектора"
   ]
  },
  {
   "cell_type": "code",
   "execution_count": null,
   "metadata": {},
   "outputs": [],
   "source": [
    "d = np.array(input('Введите координаты вектора через запятую  ').split(','))"
   ]
  },
  {
   "cell_type": "code",
   "execution_count": null,
   "metadata": {},
   "outputs": [],
   "source": [
    "lenght_d = 0\n",
    "for i in d:\n",
    "    lenght_d += float(i)**2\n",
    "lenght_d = np.sqrt(lenght_d)"
   ]
  },
  {
   "cell_type": "code",
   "execution_count": null,
   "metadata": {},
   "outputs": [],
   "source": [
    "print('Длина этого вектора составлет: ',lenght_d)"
   ]
  },
  {
   "cell_type": "markdown",
   "metadata": {},
   "source": [
    "2. Задание (на листочке)\n",
    "Почему прямые не кажутся перпендикулярными? (см.ролик)\n"
   ]
  },
  {
   "cell_type": "code",
   "execution_count": null,
   "metadata": {},
   "outputs": [],
   "source": [
    "x = np.linspace(-5, 5, 21)"
   ]
  },
  {
   "cell_type": "code",
   "execution_count": null,
   "metadata": {},
   "outputs": [],
   "source": [
    "y = 3*x+1\n",
    "y2=(-1/3)*x+1"
   ]
  },
  {
   "cell_type": "code",
   "execution_count": null,
   "metadata": {},
   "outputs": [],
   "source": [
    "plt.figure(figsize=plt.figaspect(1.0))\n",
    "plt.plot(x,y)\n",
    "plt.plot(x,y2)\n",
    "plt.xlim([-15,15])\n",
    "plt.ylim([-15,15]);"
   ]
  },
  {
   "cell_type": "code",
   "execution_count": null,
   "metadata": {},
   "outputs": [],
   "source": [
    "line_1 = go.Scatter(name='y = 3*x+1',\n",
    "                   x = x, y = 3*x+1)\n",
    "line_2 = go.Scatter(name='y2=(-1/3)*x+1',\n",
    "                   x = x, y =(-1/3)*x+1)\n",
    "layout = go.Layout(xaxis=dict(range = [-15,15]),\n",
    "                   yaxis=dict(range = [-15,15]),\n",
    "                   autosize=False,\n",
    "                   width=500,\n",
    "                   height=500)"
   ]
  },
  {
   "cell_type": "code",
   "execution_count": null,
   "metadata": {
    "scrolled": true
   },
   "outputs": [],
   "source": [
    "fig = go.Figure([line_1, line_2], layout=layout)\n",
    "iplot(fig)"
   ]
  },
  {
   "cell_type": "markdown",
   "metadata": {},
   "source": [
    "Ответ - все дело в соотношении сторон рисунка."
   ]
  },
  {
   "cell_type": "markdown",
   "metadata": {},
   "source": [
    "## Задание 3"
   ]
  },
  {
   "cell_type": "markdown",
   "metadata": {},
   "source": [
    "Напишите код на Python, реализующий построение графиков:\n",
    "окружности"
   ]
  },
  {
   "cell_type": "code",
   "execution_count": null,
   "metadata": {},
   "outputs": [],
   "source": [
    "r = int(input('введите радиус - '))"
   ]
  },
  {
   "cell_type": "code",
   "execution_count": null,
   "metadata": {},
   "outputs": [],
   "source": [
    "x1 = []\n",
    "y1 = []\n",
    "y2 = []\n",
    "x = np.linspace(-r, r, 1000)\n",
    "for i in x:\n",
    "\n",
    "    x1.append(i)\n",
    "    y1.append(np.sqrt(r**2-i**2))\n",
    "    y2.append(-np.sqrt(r**2 - i**2))\n",
    "\n",
    "\n",
    "plt.figure(figsize=plt.figaspect(1.0))\n",
    "plt.plot(x1, y1)\n",
    "plt.plot(x1, y2);"
   ]
  },
  {
   "cell_type": "code",
   "execution_count": null,
   "metadata": {},
   "outputs": [],
   "source": [
    "layout = go.Layout(autosize=False,\n",
    "                   width=500,\n",
    "                   height=500)\n",
    "# iplot([go.Scatter(x=x1, y=y1)])\n",
    "line_1 = go.Scatter(x = x1, y = y1)\n",
    "line_2 = go.Scatter(x = x1, y = y2)\n",
    "fig = go.Figure([line_1, line_2], layout=layout)\n",
    "iplot(fig)"
   ]
  },
  {
   "cell_type": "markdown",
   "metadata": {},
   "source": [
    "эллипса"
   ]
  },
  {
   "cell_type": "markdown",
   "metadata": {},
   "source": [
    "#  x^2/a^2+y^2/b^2=1\n",
    "#  y^2 = (1-x^2/a^2)/b^2\n",
    "#  y = sqrt((1-x^2/a^2)/b^2)"
   ]
  },
  {
   "cell_type": "code",
   "execution_count": null,
   "metadata": {},
   "outputs": [],
   "source": [
    "x = np.linspace(-10, 10, 100000)"
   ]
  },
  {
   "cell_type": "code",
   "execution_count": null,
   "metadata": {},
   "outputs": [],
   "source": [
    "a =  3\n",
    "b = 7\n",
    "\n",
    "y = np.sqrt((1-x**2/a**2)/b**2)\n",
    "y1 = -np.sqrt((1-x**2/a**2)/b**2)"
   ]
  },
  {
   "cell_type": "code",
   "execution_count": null,
   "metadata": {},
   "outputs": [],
   "source": [
    "plt.plot(x,y)\n",
    "plt.plot(x,y1);"
   ]
  },
  {
   "cell_type": "code",
   "execution_count": null,
   "metadata": {},
   "outputs": [],
   "source": [
    "line_1 = go.Scatter(x = x, y = y)\n",
    "line_2 = go.Scatter(x = x, y = y1)\n",
    "iplot([line_1, line_2])"
   ]
  },
  {
   "cell_type": "markdown",
   "metadata": {},
   "source": [
    "гиперболы"
   ]
  },
  {
   "cell_type": "markdown",
   "metadata": {},
   "source": [
    "# x^2/a^2-y^2/b^2=1\n",
    "# x^2/a^2=1 + y^2/b^2\n",
    "# y^2 = (x^2/a^2-1)/b^2\n",
    "# y = sqrt((x^2/a^2-1)/b^2)"
   ]
  },
  {
   "cell_type": "code",
   "execution_count": null,
   "metadata": {},
   "outputs": [],
   "source": [
    "x = np.linspace(-10, 10, 10000)"
   ]
  },
  {
   "cell_type": "code",
   "execution_count": null,
   "metadata": {},
   "outputs": [],
   "source": [
    "a=3\n",
    "b=8\n",
    "# y = 1/(x+2)\n",
    "y = np.sqrt((x**2/a**2-1)/b**2)\n",
    "y1 = -np.sqrt((x**2/a**2-1)/b**2)"
   ]
  },
  {
   "cell_type": "code",
   "execution_count": null,
   "metadata": {
    "scrolled": false
   },
   "outputs": [],
   "source": [
    "plt.plot(x,y)\n",
    "plt.plot(x,y1)"
   ]
  },
  {
   "cell_type": "code",
   "execution_count": null,
   "metadata": {},
   "outputs": [],
   "source": [
    "iplot([go.Scatter(x=x,y=y), go.Scatter(x=x, y=y1)])"
   ]
  },
  {
   "cell_type": "markdown",
   "metadata": {},
   "source": [
    "## Задание 5"
   ]
  },
  {
   "cell_type": "markdown",
   "metadata": {},
   "source": [
    "Нарисуйте трехмерный график двух параллельных плоскостей."
   ]
  },
  {
   "cell_type": "code",
   "execution_count": null,
   "metadata": {},
   "outputs": [],
   "source": [
    "from pylab import *\n",
    "from mpl_toolkits.mplot3d import Axes3D"
   ]
  },
  {
   "cell_type": "code",
   "execution_count": null,
   "metadata": {},
   "outputs": [],
   "source": [
    "fig = figure()\n",
    "ax = Axes3D(fig)\n",
    "X = np.arange(-5,5,0.5)\n",
    "Y = np.arange(-5,5,0.5)\n",
    "X, Y = np.meshgrid(X, Y)\n",
    "Z = 2*X+5*Y\n",
    "Z2 = 2*X+5*Y+40\n",
    "ax.plot_wireframe(X,Y,Z, color='red')\n",
    "ax.plot_wireframe(X,Y,Z2);"
   ]
  },
  {
   "cell_type": "code",
   "execution_count": null,
   "metadata": {},
   "outputs": [],
   "source": [
    "X = np.arange(-5,5,0.5)\n",
    "Y = np.arange(-5,5,0.5)\n",
    "X, Y = np.meshgrid(X, Y)\n",
    "\n",
    "trace1 = go.Surface(colorscale='Viridis',\n",
    "                    z = 2*X+5*Y)\n",
    "trace2 = go.Surface(colorscale='Reds',\n",
    "                    z = 2*X+5*Y+40)\n",
    "data = [trace1, trace2]\n",
    "iplot(data)"
   ]
  },
  {
   "cell_type": "code",
   "execution_count": null,
   "metadata": {},
   "outputs": [],
   "source": [
    "X = np.arange(-50,50,0.5)\n",
    "Y = np.arange(-50,50,0.5)\n",
    "X, Y = np.meshgrid(X, Y)\n",
    "a=1\n",
    "b=1\n",
    "c=1\n",
    "\n",
    "trace1 = go.Surface(colorscale='Viridis',\n",
    "                    z = np.sqrt((X**2/a**2+Y**2/b**2+1)/c**2))\n",
    "trace2 = go.Surface(colorscale='Reds',\n",
    "                    z = -np.sqrt((X**2/a**2+Y**2/b**2+1)/c**2))\n",
    "data = [trace1, trace2]\n",
    "iplot(data)"
   ]
  },
  {
   "cell_type": "code",
   "execution_count": null,
   "metadata": {},
   "outputs": [],
   "source": [
    "X = np.arange(-50,50,0.5)\n",
    "Y = np.arange(-50,50,0.5)\n",
    "X, Y = np.meshgrid(X, Y)\n",
    "a=1\n",
    "b=1\n",
    "c=1\n",
    "\n",
    "trace1 = go.Surface(colorscale='Viridis',\n",
    "                    z = (Y**2-X**2)/2)\n",
    "\n",
    "data = [trace1]\n",
    "iplot(data)"
   ]
  },
  {
   "cell_type": "code",
   "execution_count": null,
   "metadata": {},
   "outputs": [],
   "source": [
    "X = np.arange(-50,50,0.5)\n",
    "Y = np.arange(-50,50,0.5)\n",
    "X, Y = np.meshgrid(X, Y)\n",
    "a=1\n",
    "b=1\n",
    "c=1\n",
    "\n",
    "trace1 = go.Surface(colorscale='Viridis',\n",
    "                    z = X**2+Y**2)\n",
    "\n",
    "data = [trace1]\n",
    "iplot(data)"
   ]
  },
  {
   "cell_type": "code",
   "execution_count": null,
   "metadata": {},
   "outputs": [],
   "source": [
    "X = np.arange(-5,5,0.05)\n",
    "Y = np.arange(-5,5,0.05)\n",
    "X, Y = np.meshgrid(X, Y)\n",
    "a=1\n",
    "b=1\n",
    "c=1\n",
    "\n",
    "trace1 = go.Surface(colorscale='Viridis',\n",
    "                    z = np.sqrt(1-X**2-Y**2))\n",
    "trace2 = go.Surface(colorscale='Reds',\n",
    "                    z = -np.sqrt(1-X**2-Y**2))\n",
    "data = [trace1, trace2]\n",
    "iplot(data)"
   ]
  }
 ],
 "metadata": {
  "kernelspec": {
   "display_name": "Python 3",
   "language": "python",
   "name": "python3"
  },
  "language_info": {
   "codemirror_mode": {
    "name": "ipython",
    "version": 3
   },
   "file_extension": ".py",
   "mimetype": "text/x-python",
   "name": "python",
   "nbconvert_exporter": "python",
   "pygments_lexer": "ipython3",
   "version": "3.7.2"
  }
 },
 "nbformat": 4,
 "nbformat_minor": 2
}
