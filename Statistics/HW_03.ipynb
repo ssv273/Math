{
 "cells": [
  {
   "cell_type": "code",
   "execution_count": 1,
   "metadata": {},
   "outputs": [],
   "source": [
    "import numpy as np\n",
    "from math import factorial"
   ]
  },
  {
   "cell_type": "markdown",
   "metadata": {},
   "source": [
    "#### 1. Даны значения зарплат из выборки выпускников: 100, 80, 75, 77, 89, 33, 45, 25, 65, 17, 30, 24, 57, 55, 70, 75, 65, 84, 90, 150. Посчитать (желательно без использования статистических методов наподобие std, var, mean) среднее арифметическое, среднее квадратичное отклонение, смещенную и несмещенную оценки дисперсий для данной выборки."
   ]
  },
  {
   "cell_type": "code",
   "execution_count": 2,
   "metadata": {},
   "outputs": [],
   "source": [
    "payment = [100, 80, 75, 77, 89, 33, 45, 25, 65,\n",
    "           17, 30, 24, 57, 55, 70, 75, 65, 84, 90, 150]"
   ]
  },
  {
   "cell_type": "code",
   "execution_count": 3,
   "metadata": {},
   "outputs": [
    {
     "name": "stdout",
     "output_type": "stream",
     "text": [
      "Среднеарифметическое =  65.3\n"
     ]
    }
   ],
   "source": [
    "print('Среднеарифметическое = ', sum(payment)/len(payment))"
   ]
  },
  {
   "cell_type": "code",
   "execution_count": 4,
   "metadata": {},
   "outputs": [
    {
     "name": "stdout",
     "output_type": "stream",
     "text": [
      "Смещенная дисперсия = 950.11\n",
      "Несмещенная дисперсия =  1000.1157894736842\n",
      "Среднее квадратичное отклонение =  30.823854398825596\n"
     ]
    }
   ],
   "source": [
    "D = 0\n",
    "for i in payment:\n",
    "    D += (i-sum(payment)/len(payment))**2\n",
    "D1 = D/(len(payment)-1)\n",
    "D = D/len(payment)\n",
    "print('Смещенная дисперсия =', D)\n",
    "print('Несмещенная дисперсия = ', D1)\n",
    "print('Среднее квадратичное отклонение = ', np.sqrt(D))"
   ]
  },
  {
   "cell_type": "markdown",
   "metadata": {},
   "source": [
    "#### 2. В первом ящике находится 8 мячей, из которых 5 - белые. Во втором ящике - 12 мячей, из которых 5 белых. Из первого ящика вытаскивают случайным образом два мяча, из второго - 4. Какова вероятность того, что 3 мяча белые?"
   ]
  },
  {
   "cell_type": "markdown",
   "metadata": {},
   "source": [
    "имеем 2 случая:\n",
    "\n",
    "1. из первого вытащили ровно 1 мяч белый и из второго 2 белых\n",
    "\n",
    "2. из первогвытащили оба белых шара, из второго ровно 1 белый"
   ]
  },
  {
   "cell_type": "markdown",
   "metadata": {},
   "source": [
    "n1 - кол-во мячей в 1м ящике\n",
    "\n",
    "m1 - кол-во белых мячей в 1м ящике\n",
    "\n",
    "n2 - кол-во мячей во 2м ящике\n",
    "\n",
    "m2 - кол-во белых мячей во 2м ящике"
   ]
  },
  {
   "cell_type": "code",
   "execution_count": 5,
   "metadata": {},
   "outputs": [],
   "source": [
    "n1 = 8\n",
    "m1 = 5\n",
    "n2 = 12\n",
    "m2 = 5"
   ]
  },
  {
   "cell_type": "markdown",
   "metadata": {},
   "source": [
    "итак, случай №1"
   ]
  },
  {
   "cell_type": "code",
   "execution_count": 6,
   "metadata": {},
   "outputs": [],
   "source": [
    "P2 = (m2/n2)*((m2-1)/(n2-1))    # из второго ящика оба мяча белые"
   ]
  },
  {
   "cell_type": "code",
   "execution_count": 7,
   "metadata": {},
   "outputs": [],
   "source": [
    "k = 1\n",
    "n = 2\n",
    "p1 = 5/8"
   ]
  },
  {
   "cell_type": "code",
   "execution_count": 8,
   "metadata": {},
   "outputs": [],
   "source": [
    "c = factorial(n)/(factorial(k)*factorial(n-k))\n",
    "# вероятность, что ровно один мяч белый из первого ящика\n",
    "P1 = c*(p1**k)*(1-p1)**(n-k)"
   ]
  },
  {
   "cell_type": "code",
   "execution_count": 9,
   "metadata": {},
   "outputs": [
    {
     "data": {
      "text/plain": [
       "0.07102272727272728"
      ]
     },
     "execution_count": 9,
     "metadata": {},
     "output_type": "execute_result"
    }
   ],
   "source": [
    "P_1 = P1*P2                # вероятность первого случая\n",
    "P_1"
   ]
  },
  {
   "cell_type": "markdown",
   "metadata": {},
   "source": [
    "случай №2"
   ]
  },
  {
   "cell_type": "code",
   "execution_count": 10,
   "metadata": {},
   "outputs": [],
   "source": [
    "# вероятность того что вытянули подряд 2 белых мяча из первого ящика\n",
    "P1 = (m1/n1)*((m1-1)/(n1-1))"
   ]
  },
  {
   "cell_type": "code",
   "execution_count": 11,
   "metadata": {},
   "outputs": [],
   "source": [
    "k = 1\n",
    "n = 2\n",
    "p2 = 5/12"
   ]
  },
  {
   "cell_type": "code",
   "execution_count": 12,
   "metadata": {},
   "outputs": [],
   "source": [
    "c = factorial(n)/(factorial(k)*factorial(n-k))\n",
    "# вероятность, что ровно один мяч белый из второго ящика\n",
    "P2 = c*(p2**k)*(1-p2)**(n-k)"
   ]
  },
  {
   "cell_type": "code",
   "execution_count": 13,
   "metadata": {},
   "outputs": [
    {
     "data": {
      "text/plain": [
       "0.17361111111111108"
      ]
     },
     "execution_count": 13,
     "metadata": {},
     "output_type": "execute_result"
    }
   ],
   "source": [
    "P_2 = P1*P2                # вероятность второго случая\n",
    "P_2"
   ]
  },
  {
   "cell_type": "markdown",
   "metadata": {},
   "source": [
    "Вероятность обоих случаев"
   ]
  },
  {
   "cell_type": "code",
   "execution_count": 14,
   "metadata": {},
   "outputs": [
    {
     "data": {
      "text/plain": [
       "0.012330334595959594"
      ]
     },
     "execution_count": 14,
     "metadata": {},
     "output_type": "execute_result"
    }
   ],
   "source": [
    "P_1*P_2"
   ]
  },
  {
   "cell_type": "markdown",
   "metadata": {},
   "source": [
    "####  На соревновании по биатлону один из трех спортсменов стреляет и попадает в мишень. Вероятность попадания для первого спортсмена равна 0.9, для второго — 0.8, для третьего — 0.6. Найти вероятность того, что выстрел произведен: a). первым спортсменом б). вторым спортсменом в). третьим спортсменом."
   ]
  },
  {
   "cell_type": "code",
   "execution_count": 15,
   "metadata": {},
   "outputs": [],
   "source": [
    "p1 = 0.9\n",
    "p2 = 0.8\n",
    "p3 = 0.6\n",
    "H1 = 1/3\n",
    "H2 = 1/3\n",
    "H3 = 1/3\n",
    "q1 = 1-p1\n",
    "q2 = 1-p2\n",
    "q3 = 1- p3"
   ]
  },
  {
   "cell_type": "code",
   "execution_count": 16,
   "metadata": {},
   "outputs": [],
   "source": [
    "# вероятности попаданий до выстрелов\n",
    "P1 = p1*q2*q3\n",
    "P2 = q1*p2*q3\n",
    "P3 = q1*q2*p3"
   ]
  },
  {
   "cell_type": "markdown",
   "metadata": {},
   "source": [
    "Вероятность того что выстрел произведен первым спортсменом"
   ]
  },
  {
   "cell_type": "code",
   "execution_count": 17,
   "metadata": {},
   "outputs": [
    {
     "data": {
      "text/plain": [
       "0.6206896551724138"
      ]
     },
     "execution_count": 17,
     "metadata": {},
     "output_type": "execute_result"
    }
   ],
   "source": [
    "P = (H1*P1)/(H1*P1+H2*P2+H3*P3)\n",
    "P"
   ]
  },
  {
   "cell_type": "markdown",
   "metadata": {},
   "source": [
    "Вероятность того что выстрел произведен вторым спортсменом"
   ]
  },
  {
   "cell_type": "code",
   "execution_count": 18,
   "metadata": {
    "scrolled": true
   },
   "outputs": [
    {
     "data": {
      "text/plain": [
       "0.27586206896551724"
      ]
     },
     "execution_count": 18,
     "metadata": {},
     "output_type": "execute_result"
    }
   ],
   "source": [
    "P = (H2*P2)/(H1*P1+H2*P2+H3*P3)\n",
    "P"
   ]
  },
  {
   "cell_type": "markdown",
   "metadata": {},
   "source": [
    "Вероятность того что выстрел произведен третьим спортсменом"
   ]
  },
  {
   "cell_type": "code",
   "execution_count": 19,
   "metadata": {},
   "outputs": [
    {
     "data": {
      "text/plain": [
       "0.10344827586206891"
      ]
     },
     "execution_count": 19,
     "metadata": {},
     "output_type": "execute_result"
    }
   ],
   "source": [
    "P = (H3*P3)/(H1*P1+H2*P2+H3*P3)\n",
    "P"
   ]
  },
  {
   "cell_type": "code",
   "execution_count": null,
   "metadata": {},
   "outputs": [],
   "source": []
  },
  {
   "cell_type": "markdown",
   "metadata": {},
   "source": [
    "#### 4. В университет на факультеты A и B поступило равное количество студентов, а на факультет C студентов поступило столько же, сколько на A и B вместе. Вероятность того, что студент факультета A сдаст первую сессию, равна 0.8. Для студента факультета B эта вероятность равна 0.7, а для студента факультета C - 0.9. Студент сдал первую сессию. Какова вероятность, что он учится: a). на факультете A б). на факультете B в). на факультете C?"
   ]
  },
  {
   "cell_type": "code",
   "execution_count": 20,
   "metadata": {},
   "outputs": [],
   "source": [
    "p1 = 0.8\n",
    "q1 = 1-p1\n",
    "p2 = 0.7\n",
    "q2 = 1-p2\n",
    "p3 = 0.9\n",
    "q3 = 1-p3\n",
    "H1 = 1/4\n",
    "H2 = 1/4\n",
    "H3 = 2/4"
   ]
  },
  {
   "cell_type": "code",
   "execution_count": 21,
   "metadata": {},
   "outputs": [],
   "source": [
    "P1 = p1*q2*q3\n",
    "P2 = q1*p2*q3\n",
    "P3 = q1*q2*p3"
   ]
  },
  {
   "cell_type": "code",
   "execution_count": 22,
   "metadata": {},
   "outputs": [],
   "source": [
    "P_A = (H1*P1)/(H1*P1+H2*P2+H3*P3)\n",
    "P_B = (H2*P2)/(H1*P1+H2*P2+H3*P3)\n",
    "P_C = (H3*P3)/(H1*P1+H2*P2+H3*P3)"
   ]
  },
  {
   "cell_type": "code",
   "execution_count": 23,
   "metadata": {},
   "outputs": [
    {
     "name": "stdout",
     "output_type": "stream",
     "text": [
      "a) 0.16438356164383564\n",
      "б) 0.09589041095890408\n",
      "в) 0.7397260273972603\n"
     ]
    }
   ],
   "source": [
    "print('a)', P_A)\n",
    "print('б)', P_B)\n",
    "print('в)', P_C)"
   ]
  },
  {
   "cell_type": "markdown",
   "metadata": {},
   "source": [
    "#### 5. Устройство состоит из трех деталей. Для первой детали вероятность выйти из строя в первый месяц равна 0.1, для второй - 0.2, для третьей - 0.25. Какова вероятность того, что в первый месяц выйдут из строя: а). все детали б). только две детали в). хотя бы одна деталь г). от одной до двух деталей?"
   ]
  },
  {
   "cell_type": "code",
   "execution_count": 24,
   "metadata": {},
   "outputs": [],
   "source": [
    "p1 = 0.1\n",
    "q1 = 1-p1\n",
    "p2 = 0.2\n",
    "q2 = 1-p2\n",
    "p3 = 0.25\n",
    "q3 = 1-p3\n",
    "H1 = 1/3\n",
    "H2 = 1/3\n",
    "H3 = 1/3"
   ]
  },
  {
   "cell_type": "code",
   "execution_count": 25,
   "metadata": {},
   "outputs": [],
   "source": [
    "P1 = p1*q2*q3\n",
    "P2 = q1*p2*q3\n",
    "P3 = q1*q2*p3"
   ]
  },
  {
   "cell_type": "code",
   "execution_count": 26,
   "metadata": {},
   "outputs": [
    {
     "name": "stdout",
     "output_type": "stream",
     "text": [
      "a) 0.005000000000000001\n"
     ]
    }
   ],
   "source": [
    "print('a)', p1*p2*p3)\n"
   ]
  },
  {
   "cell_type": "markdown",
   "metadata": {},
   "source": [
    "#### б) только 2 детали\n",
    "\n",
    "тут 3 случая\n",
    "\n",
    "1. 1 и 2 детали сломались\n",
    "2. 1 и 3 детали сломались\n",
    "3. 2 и 3 детали сломались"
   ]
  },
  {
   "cell_type": "code",
   "execution_count": 27,
   "metadata": {},
   "outputs": [
    {
     "name": "stdout",
     "output_type": "stream",
     "text": [
      "б) 0.08000000000000002\n"
     ]
    }
   ],
   "source": [
    "print('б)', p1*p2*q3+p1*q2*p3+q1*p2*p3)"
   ]
  },
  {
   "cell_type": "code",
   "execution_count": 28,
   "metadata": {},
   "outputs": [
    {
     "name": "stdout",
     "output_type": "stream",
     "text": [
      "в) 0.45999999999999996\n"
     ]
    }
   ],
   "source": [
    "print('в)', 1-q1*q2*q3)"
   ]
  },
  {
   "cell_type": "code",
   "execution_count": 29,
   "metadata": {},
   "outputs": [
    {
     "name": "stdout",
     "output_type": "stream",
     "text": [
      "c) 0.45500000000000007\n"
     ]
    }
   ],
   "source": [
    "print('c)', p1*p2*q3+p1*q2*p3+q1*p2*p3 + p1*q2*q3 + q1*p2*q3 + q1*q2*p3)"
   ]
  }
 ],
 "metadata": {
  "kernelspec": {
   "display_name": "Python 3",
   "language": "python",
   "name": "python3"
  },
  "language_info": {
   "codemirror_mode": {
    "name": "ipython",
    "version": 3
   },
   "file_extension": ".py",
   "mimetype": "text/x-python",
   "name": "python",
   "nbconvert_exporter": "python",
   "pygments_lexer": "ipython3",
   "version": "3.7.3"
  },
  "toc": {
   "base_numbering": 1,
   "nav_menu": {},
   "number_sections": true,
   "sideBar": true,
   "skip_h1_title": false,
   "title_cell": "Table of Contents",
   "title_sidebar": "Contents",
   "toc_cell": false,
   "toc_position": {},
   "toc_section_display": true,
   "toc_window_display": false
  }
 },
 "nbformat": 4,
 "nbformat_minor": 2
}
